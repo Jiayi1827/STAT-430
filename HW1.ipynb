{
  "nbformat": 4,
  "nbformat_minor": 0,
  "metadata": {
    "colab": {
      "provenance": [],
      "authorship_tag": "ABX9TyNs+36mN5LpjvrTIYvAgQqH",
      "include_colab_link": true
    },
    "kernelspec": {
      "name": "python3",
      "display_name": "Python 3"
    },
    "language_info": {
      "name": "python"
    }
  },
  "cells": [
    {
      "cell_type": "markdown",
      "metadata": {
        "id": "view-in-github",
        "colab_type": "text"
      },
      "source": [
        "<a href=\"https://colab.research.google.com/github/Jiayi1827/STAT-430/blob/main/HW1.ipynb\" target=\"_parent\"><img src=\"https://colab.research.google.com/assets/colab-badge.svg\" alt=\"Open In Colab\"/></a>"
      ]
    },
    {
      "cell_type": "code",
      "execution_count": null,
      "metadata": {
        "id": "He0XCcKR-S1e"
      },
      "outputs": [],
      "source": [
        "import numpy as np"
      ]
    },
    {
      "cell_type": "code",
      "source": [
        "#TODO: indicate whether you want to use Numpy or Pytorch here by modifying variable 'use_pytorch'\n",
        "# If you want to use Pytorch leave it as default True, otherwise set it to False\n",
        "use_pytorch = False"
      ],
      "metadata": {
        "id": "X7ye-gkf-WYk"
      },
      "execution_count": null,
      "outputs": []
    },
    {
      "cell_type": "code",
      "source": [
        "# Problem Naive Bayes\n",
        "def bayes_MAP(X, y):\n",
        "    '''\n",
        "    Arguments:\n",
        "        X (S x N LongTensor / Numpy ndarray): features of each object, X[i][j] = 0/1\n",
        "        y (S LongTensor  / Numpy ndarray): label of each object, y[i] = 0/1\n",
        "\n",
        "    Returns:\n",
        "        D (2 x N Float Tensor / Numpy ndarray): MAP estimation of P(X_j=1|Y=i)\n",
        "\n",
        "    '''\n",
        "    N, d = X.shape\n",
        "    D = np.zeros((2, d))\n",
        "\n",
        "    # Estimate P(X_j=1|Y=0)\n",
        "    for j in range(d):\n",
        "        D[0, j] = (np.sum((X[:, j] == 1) & (y == 0)) + 1) / (np.sum(y == 0) + 2)  # Beta(1, 1) prior\n",
        "\n",
        "    # Estimate P(X_j=1|Y=1)\n",
        "    for j in range(d):\n",
        "        D[1, j] = (np.sum((X[:, j] == 1) & (y == 1)) + 1) / (np.sum(y == 1) + 2)  # Beta(1, 1) prior\n",
        "\n",
        "    return D\n",
        "\n",
        "\n",
        "def bayes_MLE(y):\n",
        "    '''\n",
        "    Arguments:\n",
        "        y (S LongTensor / Numpy ndarray): label of each object\n",
        "\n",
        "    Returns:\n",
        "        p (float or scalar Float Tensor / Numpy ndarray): MLE of P(Y=1)\n",
        "\n",
        "    '''\n",
        "    return np.mean(y)\n",
        "\n",
        "\n",
        "\n",
        "def bayes_classify(D, p, X):\n",
        "    '''\n",
        "    Arguments:\n",
        "        D (2 x N Float Tensor / Numpy ndarray): returned value of `bayes_MAP`\n",
        "        p (float or scalar Float Tensor / Numpy ndarray): returned value of `bayes_MLE`\n",
        "        X (S x N LongTensor / Numpy ndarray): features of each object for classification, X[i][j] = 0/1\n",
        "\n",
        "    Returns:\n",
        "        y (S LongTensor / Numpy ndarray): label of each object for classification, y[i] = 0/1\n",
        "\n",
        "    '''\n",
        "    N, d = X.shape\n",
        "    log_probs_0 = np.sum(X * np.log(D[0, :]) + (1 - X) * np.log(1 - D[0, :]), axis=1) + np.log(1 - p)\n",
        "    log_probs_1 = np.sum(X * np.log(D[1, :]) + (1 - X) * np.log(1 - D[1, :]), axis=1) + np.log(p)\n",
        "\n",
        "    # If log_probs_1 > log_probs_0, return 1, else return 0\n",
        "    return (log_probs_1 > log_probs_0).astype(int)\n"
      ],
      "metadata": {
        "id": "dcJHy0oKTb0N"
      },
      "execution_count": null,
      "outputs": []
    },
    {
      "cell_type": "code",
      "source": [
        "# Problem Gaussian Naive Bayes\n",
        "def gaussian_MAP(X, y):\n",
        "    '''\n",
        "    Arguments:\n",
        "        X (S x N FloatTensor / Numpy ndarray): features of each object\n",
        "        y (S LongTensor / Numpy ndarray): label of each object, y[i] = 0/1\n",
        "\n",
        "    Returns:\n",
        "        mu (2 x N Float Tensor / Numpy ndarray): MAP estimation of mu in N(mu, sigma2)\n",
        "        sigma2 (2 x N Float Tensor / Numpy ndarray): MAP estimation of mu in N(mu, sigma2)\n",
        "\n",
        "    '''\n",
        "    _, N = X.shape\n",
        "    mu = np.zeros((2, N))\n",
        "    sigma2 = np.zeros((2, N))\n",
        "\n",
        "    for c in [0, 1]:\n",
        "        X_c = X[y == c]\n",
        "        mu[c, :] = np.mean(X_c, axis=0)\n",
        "        sigma2[c, :] = np.var(X_c, axis=0)  # variance, not standard deviation\n",
        "\n",
        "    return mu, sigma2\n",
        "\n",
        "\n",
        "def gaussian_MLE(y):\n",
        "    '''\n",
        "    Arguments:\n",
        "        y (S LongTensor / Numpy ndarray): label of each object\n",
        "\n",
        "    Returns:\n",
        "        p (float or scalar Float Tensor / Numpy ndarray): MLE of P(Y=1)\n",
        "\n",
        "    '''\n",
        "    return np.mean(y)\n",
        "\n",
        "def gaussian_classify(mu, sigma2, p, X):\n",
        "    '''\n",
        "    Arguments:\n",
        "        mu (2 x N Float Tensor / Numpy ndarray): returned value #1 of `gaussian_MAP` (estimation of mean)\n",
        "        sigma2 (2 x N Float Tensor / Numpy ndarray): returned value #2 of `gaussian_MAP` (square of sigma)\n",
        "        p (float or scalar Float Tensor / Numpy ndarray): returned value of `bayes_MLE`\n",
        "        X (S x N LongTensor / Numpy ndarray): features of each object for classification, X[i][j] = 0/1\n",
        "\n",
        "    Returns:\n",
        "        y (S LongTensor / Numpy ndarray): label of each object for classification, y[i] = 0/1\n",
        "\n",
        "    '''\n",
        "    N, d = X.shape\n",
        "    log_prob = np.zeros((N, 2))\n",
        "\n",
        "    for c in [0, 1]:\n",
        "        log_prob_class = np.sum(-0.5 * np.log(2 * np.pi * sigma2[c, :])\n",
        "                                - 0.5 * (X - mu[c, :])**2 / sigma2[c, :], axis=1)\n",
        "        log_prob[:, c] = log_prob_class + np.log(p if c == 1 else (1-p))\n",
        "\n",
        "    return np.argmax(log_prob, axis=1).astype(np.int)\n",
        "\n",
        "\n",
        "    pass"
      ],
      "metadata": {
        "id": "sGLQAlkXYDxN"
      },
      "execution_count": null,
      "outputs": []
    }
  ]
}